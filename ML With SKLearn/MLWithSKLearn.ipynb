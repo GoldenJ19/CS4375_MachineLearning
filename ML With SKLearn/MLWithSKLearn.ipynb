{
 "cells": [
  {
   "cell_type": "markdown",
   "source": [
    "# Machine Learning with SKLearn\n",
    "Justin Hardy\n",
    "<br/>\n",
    "## Library Imports"
   ],
   "metadata": {
    "collapsed": false
   }
  },
  {
   "cell_type": "code",
   "execution_count": 519,
   "metadata": {
    "collapsed": true
   },
   "outputs": [],
   "source": [
    "# Imports\n",
    "import pandas as pd\n",
    "import numpy as np\n",
    "import seaborn as sb\n",
    "import tensorflow as tf\n",
    "import keras\n",
    "\n",
    "from sklearn.model_selection import train_test_split as tts\n",
    "from sklearn.linear_model import LogisticRegression\n",
    "from sklearn.tree import DecisionTreeClassifier\n",
    "from sklearn.metrics import accuracy_score, confusion_matrix, accuracy_score, precision_score, recall_score, f1_score\n",
    "from keras.models import Sequential\n",
    "from keras.layers import Dense, Dropout, Embedding, SimpleRNN\n",
    "from keras.optimizers import RMSprop\n",
    "\n",
    "# Seed\n",
    "np.random.seed(1234)"
   ]
  },
  {
   "cell_type": "markdown",
   "source": [
    "## Loading the Data Set\n",
    "The below code loads the data set given to us, which is simply an automobile data set that can be used to predict miles per galon (mpg)."
   ],
   "metadata": {
    "collapsed": false
   }
  },
  {
   "cell_type": "code",
   "execution_count": 520,
   "outputs": [
    {
     "name": "stdout",
     "output_type": "stream",
     "text": [
      "    mpg  cylinders  displacement  horsepower  weight  acceleration  year  \\\n",
      "0  18.0          8         307.0         130    3504          12.0  70.0   \n",
      "1  15.0          8         350.0         165    3693          11.5  70.0   \n",
      "2  18.0          8         318.0         150    3436          11.0  70.0   \n",
      "3  16.0          8         304.0         150    3433          12.0  70.0   \n",
      "4  17.0          8         302.0         140    3449           NaN  70.0   \n",
      "\n",
      "   origin                       name  \n",
      "0       1  chevrolet chevelle malibu  \n",
      "1       1          buick skylark 320  \n",
      "2       1         plymouth satellite  \n",
      "3       1              amc rebel sst  \n",
      "4       1                ford torino   \n",
      "\n",
      "Dimensions: (392, 9)\n"
     ]
    }
   ],
   "source": [
    "# Load data set\n",
    "Data = pd.read_csv('Auto.csv');\n",
    "print( Data.head(), '\\n' )\n",
    "print(\"Dimensions:\", Data.shape)"
   ],
   "metadata": {
    "collapsed": false
   }
  },
  {
   "cell_type": "markdown",
   "source": [
    "## Correcting Data Types\n",
    "The code below prints a description of each column in the data set."
   ],
   "metadata": {
    "collapsed": false
   }
  },
  {
   "cell_type": "code",
   "execution_count": 521,
   "outputs": [
    {
     "data": {
      "text/plain": "count    392.000000\nmean      23.445918\nstd        7.805007\nmin        9.000000\n25%       17.000000\n50%       22.750000\n75%       29.000000\nmax       46.600000\nName: mpg, dtype: float64"
     },
     "execution_count": 521,
     "metadata": {},
     "output_type": "execute_result"
    }
   ],
   "source": [
    "# Describe MPG\n",
    "Data.mpg.describe()"
   ],
   "metadata": {
    "collapsed": false
   }
  },
  {
   "cell_type": "markdown",
   "source": [
    "Based off of the output above, We can observe that the MPG's range is between 9.0 - 46.6, and that its average is roughly. 23.45."
   ],
   "metadata": {
    "collapsed": false
   }
  },
  {
   "cell_type": "code",
   "execution_count": 522,
   "outputs": [
    {
     "data": {
      "text/plain": "count     392.000000\nmean     2977.584184\nstd       849.402560\nmin      1613.000000\n25%      2225.250000\n50%      2803.500000\n75%      3614.750000\nmax      5140.000000\nName: weight, dtype: float64"
     },
     "execution_count": 522,
     "metadata": {},
     "output_type": "execute_result"
    }
   ],
   "source": [
    "# Describe Weight\n",
    "Data.weight.describe()"
   ],
   "metadata": {
    "collapsed": false
   }
  },
  {
   "cell_type": "markdown",
   "source": [
    "Likewise for our Weight column, its range is between 1613.0 - 5140.0, and its average is roughly 2977.58."
   ],
   "metadata": {
    "collapsed": false
   }
  },
  {
   "cell_type": "code",
   "execution_count": 523,
   "outputs": [
    {
     "data": {
      "text/plain": "count    390.000000\nmean      76.010256\nstd        3.668093\nmin       70.000000\n25%       73.000000\n50%       76.000000\n75%       79.000000\nmax       82.000000\nName: year, dtype: float64"
     },
     "execution_count": 523,
     "metadata": {},
     "output_type": "execute_result"
    }
   ],
   "source": [
    "# Describe Year\n",
    "Data.year.describe()"
   ],
   "metadata": {
    "collapsed": false
   }
  },
  {
   "cell_type": "markdown",
   "source": [
    "And finally for our Year column, its range is between 70.0 - 82.0, and its average is roughly 76.01."
   ],
   "metadata": {
    "collapsed": false
   },
   "outputs": []
  },
  {
   "cell_type": "markdown",
   "source": [
    "The output below shows each of the columns' data types. As you can see, some data best represented categorically is being represented as an integer."
   ],
   "metadata": {
    "collapsed": false
   }
  },
  {
   "cell_type": "code",
   "execution_count": 524,
   "outputs": [
    {
     "data": {
      "text/plain": "mpg             float64\ncylinders         int64\ndisplacement    float64\nhorsepower        int64\nweight            int64\nacceleration    float64\nyear            float64\norigin            int64\nname             object\ndtype: object"
     },
     "execution_count": 524,
     "metadata": {},
     "output_type": "execute_result"
    }
   ],
   "source": [
    "# Check the data types of the columns\n",
    "Data.dtypes"
   ],
   "metadata": {
    "collapsed": false
   }
  },
  {
   "cell_type": "markdown",
   "source": [
    "We'll go ahead and convert those columns - cylinders and origin - to categorical data types. The output below shows the changes being made, with the categorical columns now being of type int8 instead of type int64."
   ],
   "metadata": {
    "collapsed": false
   }
  },
  {
   "cell_type": "code",
   "execution_count": 525,
   "outputs": [
    {
     "data": {
      "text/plain": "mpg             float64\ncylinders          int8\ndisplacement    float64\nhorsepower        int64\nweight            int64\nacceleration    float64\nyear            float64\norigin             int8\nname             object\ndtype: object"
     },
     "execution_count": 525,
     "metadata": {},
     "output_type": "execute_result"
    }
   ],
   "source": [
    "# Change categorical data to categorical types\n",
    "Data.cylinders = Data.cylinders.astype('category').cat.codes\n",
    "Data.origin = Data.origin.astype('category').cat.codes\n",
    "\n",
    "# Verify changes\n",
    "Data.dtypes"
   ],
   "metadata": {
    "collapsed": false
   }
  },
  {
   "cell_type": "markdown",
   "source": [
    "## Dealing with NAs\n",
    "Next, we'll remove any NA rows from our data frame. It's relatively simple in Python, as shown below."
   ],
   "metadata": {
    "collapsed": false
   },
   "outputs": []
  },
  {
   "cell_type": "code",
   "execution_count": 526,
   "outputs": [
    {
     "name": "stdout",
     "output_type": "stream",
     "text": [
      "Dimensions: (389, 9)\n"
     ]
    }
   ],
   "source": [
    "Data = Data.dropna()\n",
    "print('Dimensions:', Data.shape)"
   ],
   "metadata": {
    "collapsed": false
   }
  },
  {
   "cell_type": "markdown",
   "source": [
    "## Modifying Columns\n",
    "Since we're using this data set for classification, we'll want to set up a column to be used that will classify the mpg by whether or not it is greater than the average. Those greater than the average will be considered 'high'."
   ],
   "metadata": {
    "collapsed": false
   },
   "outputs": []
  },
  {
   "cell_type": "code",
   "execution_count": 527,
   "outputs": [
    {
     "data": {
      "text/plain": "   cylinders  displacement  horsepower  weight  acceleration  year  origin  \\\n0          4         307.0         130    3504          12.0  70.0       0   \n1          4         350.0         165    3693          11.5  70.0       0   \n2          4         318.0         150    3436          11.0  70.0       0   \n3          4         304.0         150    3433          12.0  70.0       0   \n6          4         454.0         220    4354           9.0  70.0       0   \n\n   mpg_high  \n0         0  \n1         0  \n2         0  \n3         0  \n6         0  ",
      "text/html": "<div>\n<style scoped>\n    .dataframe tbody tr th:only-of-type {\n        vertical-align: middle;\n    }\n\n    .dataframe tbody tr th {\n        vertical-align: top;\n    }\n\n    .dataframe thead th {\n        text-align: right;\n    }\n</style>\n<table border=\"1\" class=\"dataframe\">\n  <thead>\n    <tr style=\"text-align: right;\">\n      <th></th>\n      <th>cylinders</th>\n      <th>displacement</th>\n      <th>horsepower</th>\n      <th>weight</th>\n      <th>acceleration</th>\n      <th>year</th>\n      <th>origin</th>\n      <th>mpg_high</th>\n    </tr>\n  </thead>\n  <tbody>\n    <tr>\n      <th>0</th>\n      <td>4</td>\n      <td>307.0</td>\n      <td>130</td>\n      <td>3504</td>\n      <td>12.0</td>\n      <td>70.0</td>\n      <td>0</td>\n      <td>0</td>\n    </tr>\n    <tr>\n      <th>1</th>\n      <td>4</td>\n      <td>350.0</td>\n      <td>165</td>\n      <td>3693</td>\n      <td>11.5</td>\n      <td>70.0</td>\n      <td>0</td>\n      <td>0</td>\n    </tr>\n    <tr>\n      <th>2</th>\n      <td>4</td>\n      <td>318.0</td>\n      <td>150</td>\n      <td>3436</td>\n      <td>11.0</td>\n      <td>70.0</td>\n      <td>0</td>\n      <td>0</td>\n    </tr>\n    <tr>\n      <th>3</th>\n      <td>4</td>\n      <td>304.0</td>\n      <td>150</td>\n      <td>3433</td>\n      <td>12.0</td>\n      <td>70.0</td>\n      <td>0</td>\n      <td>0</td>\n    </tr>\n    <tr>\n      <th>6</th>\n      <td>4</td>\n      <td>454.0</td>\n      <td>220</td>\n      <td>4354</td>\n      <td>9.0</td>\n      <td>70.0</td>\n      <td>0</td>\n      <td>0</td>\n    </tr>\n  </tbody>\n</table>\n</div>"
     },
     "execution_count": 527,
     "metadata": {},
     "output_type": "execute_result"
    }
   ],
   "source": [
    "# Create & add mpg_high column\n",
    "Data['mpg_high'] = Data.mpg.apply(lambda x: 1 if x > np.mean(Data.mpg) else 0)\n",
    "Data.mpg_high = Data.mpg_high.astype('category').cat.codes\n",
    "\n",
    "# Delete the mpg and name columns\n",
    "Data = Data.drop(columns=['mpg', 'name'])\n",
    "\n",
    "# Output first few rows of our newly modified data frame\n",
    "Data.head()"
   ],
   "metadata": {
    "collapsed": false
   }
  },
  {
   "cell_type": "markdown",
   "source": [
    "## Data Exploration (w/ Graphs)\n",
    "Now we'll explore the data by creating graphs, and seeing what we can learn about the data from these graphs."
   ],
   "metadata": {
    "collapsed": false
   },
   "outputs": []
  },
  {
   "cell_type": "code",
   "execution_count": 528,
   "outputs": [
    {
     "data": {
      "text/plain": "<seaborn.axisgrid.FacetGrid at 0x26c38d957e0>"
     },
     "execution_count": 528,
     "metadata": {},
     "output_type": "execute_result"
    },
    {
     "data": {
      "text/plain": "<Figure size 500x500 with 1 Axes>",
      "image/png": "[encoded data removed]"
     },
     "metadata": {},
     "output_type": "display_data"
    }
   ],
   "source": [
    "# Seaborn catplot; mpg_high\n",
    "sb.catplot(data=Data, x='mpg_high', kind='count')"
   ],
   "metadata": {
    "collapsed": false
   }
  },
  {
   "cell_type": "markdown",
   "source": [
    "The above graph simply tells us that the number of vehicles that fall above the average is somewhat notably lower than those that do not. For the most part, we can observe that the data is relatively balanced."
   ],
   "metadata": {
    "collapsed": false
   }
  },
  {
   "cell_type": "code",
   "execution_count": 529,
   "outputs": [
    {
     "data": {
      "text/plain": "<seaborn.axisgrid.FacetGrid at 0x26c38dc5210>"
     },
     "execution_count": 529,
     "metadata": {},
     "output_type": "execute_result"
    },
    {
     "data": {
      "text/plain": "<Figure size 572.111x500 with 1 Axes>",
      "image/png": "[encoded data removed]"
     },
     "metadata": {},
     "output_type": "display_data"
    }
   ],
   "source": [
    "# Seaborn relplot; x=horsepower, y=weight, hue/style=mpg_high\n",
    "sb.relplot(data=Data, x='horsepower', y='weight', hue='mpg_high')"
   ],
   "metadata": {
    "collapsed": false
   }
  },
  {
   "cell_type": "markdown",
   "source": [
    "The above graph tells us that vehicles with low weight and horsepower tend to have high mpg rates, while those with high horsepower or high weight tend to have low mpg rates. This is clear by the fact that the data clusters up into the bottom-left most portion of the graph, in the lower ends of both values, with some outliers. This doesn't seem to be the case for all vehicles with low weight and horsepower, however, as there are a number of blue dots that fall below the average that lie within this cluster. It does seem though that weight and horsepower are rather linearly related."
   ],
   "metadata": {
    "collapsed": false
   }
  },
  {
   "cell_type": "code",
   "execution_count": 530,
   "outputs": [
    {
     "data": {
      "text/plain": "<AxesSubplot: xlabel='mpg_high', ylabel='weight'>"
     },
     "execution_count": 530,
     "metadata": {},
     "output_type": "execute_result"
    },
    {
     "data": {
      "text/plain": "<Figure size 640x480 with 1 Axes>",
      "image/png": "[encoded data removed]"
     },
     "metadata": {},
     "output_type": "display_data"
    }
   ],
   "source": [
    "# Seaborn boxplot; x=mpg_high, y=weight\n",
    "sb.boxplot(data=Data, x='mpg_high', y='weight')"
   ],
   "metadata": {
    "collapsed": false
   }
  },
  {
   "cell_type": "markdown",
   "source": [
    "The above graph tells us that vehicles with lower weights tend to have high mpg rates, while vehicles with higher weights tend to have lower mpg rates. The relationship between mpg and weight seems to be inverse."
   ],
   "metadata": {
    "collapsed": false
   },
   "outputs": []
  },
  {
   "cell_type": "markdown",
   "source": [
    "## Train/Test Split\n",
    "Now, we'll split the data to train/test in preparation for the machine learning algorithms. We'll give it seed 1234 so that we'll always get the same results."
   ],
   "metadata": {
    "collapsed": false
   },
   "outputs": []
  },
  {
   "cell_type": "code",
   "execution_count": 531,
   "outputs": [
    {
     "name": "stdout",
     "output_type": "stream",
     "text": [
      "Train shape: (311, 7)\n",
      "Test shape: (78, 7)\n"
     ]
    }
   ],
   "source": [
    "# Split train/test\n",
    "x = Data.iloc[:, 0:7]\n",
    "y = Data.mpg_high\n",
    "x_train, x_test, y_train, y_test = tts(x, y, test_size=0.2, random_state=1234)\n",
    "\n",
    "# Output dimensions\n",
    "print('Train shape:', x_train.shape)\n",
    "print('Test shape:', x_test.shape)"
   ],
   "metadata": {
    "collapsed": false
   }
  },
  {
   "cell_type": "markdown",
   "source": [
    "## Model Training & Prediction\n",
    "Now we can finally start performing machine learning on the data using a variety of models! Specifically, we'll use the Logistic Regression, Decision Tree, and the newly covered Neural Network algorithms and experiment with their outputs."
   ],
   "metadata": {
    "collapsed": false
   },
   "outputs": []
  },
  {
   "cell_type": "markdown",
   "source": [
    "### Logistic Regression\n",
    "DESCRIPTION"
   ],
   "metadata": {
    "collapsed": false
   }
  },
  {
   "cell_type": "code",
   "execution_count": 532,
   "outputs": [
    {
     "name": "stdout",
     "output_type": "stream",
     "text": [
      "Accuracy: 0.8974358974358975\n"
     ]
    },
    {
     "data": {
      "text/plain": "array([[42,  8],\n       [ 0, 28]], dtype=int64)"
     },
     "execution_count": 532,
     "metadata": {},
     "output_type": "execute_result"
    }
   ],
   "source": [
    "# Train model\n",
    "lrm = LogisticRegression(max_iter=1000)\n",
    "lrm.fit(x_train, y_train)\n",
    "\n",
    "# Make predictions\n",
    "pred_lrm = lrm.predict(x_test)\n",
    "\n",
    "# Evaluate predictions\n",
    "print('Accuracy:', accuracy_score(y_test, pred_lrm))\n",
    "confusion_matrix(y_test, pred_lrm)"
   ],
   "metadata": {
    "collapsed": false
   }
  },
  {
   "cell_type": "markdown",
   "source": [
    "ANALYSIS"
   ],
   "metadata": {
    "collapsed": false
   }
  },
  {
   "cell_type": "markdown",
   "source": [
    "### Decision Tree\n",
    "DESCRIPTION"
   ],
   "metadata": {
    "collapsed": false
   }
  },
  {
   "cell_type": "code",
   "execution_count": 533,
   "outputs": [
    {
     "name": "stdout",
     "output_type": "stream",
     "text": [
      "Accuracy: 0.9230769230769231\n",
      "Precision: 0.8666666666666667\n",
      "Recall: 0.9285714285714286\n",
      "F1: 0.896551724137931\n"
     ]
    }
   ],
   "source": [
    "# Train model\n",
    "dt = DecisionTreeClassifier()\n",
    "dt.fit(x_train, y_train)\n",
    "\n",
    "# Make predictions\n",
    "pred_dt = dt.predict(x_test)\n",
    "\n",
    "# Evaluate predictions\n",
    "print('Accuracy:', accuracy_score(y_test, pred_dt))\n",
    "print('Precision:', precision_score(y_test, pred_dt))\n",
    "print('Recall:', recall_score(y_test, pred_dt))\n",
    "print('F1:', f1_score(y_test, pred_dt))"
   ],
   "metadata": {
    "collapsed": false
   }
  },
  {
   "cell_type": "markdown",
   "source": [
    "ANALYSIS"
   ],
   "metadata": {
    "collapsed": false
   }
  },
  {
   "cell_type": "markdown",
   "source": [
    "### Neural Network\n",
    "DESCRIPTION"
   ],
   "metadata": {
    "collapsed": false
   }
  },
  {
   "cell_type": "code",
   "execution_count": 534,
   "outputs": [
    {
     "name": "stdout",
     "output_type": "stream",
     "text": [
      "Epoch 1/100\n",
      "3/3 [==============================] - 1s 128ms/step - loss: 67.3620 - accuracy: 0.4855 - val_loss: 14.5814 - val_accuracy: 0.3590\n",
      "Epoch 2/100\n",
      "3/3 [==============================] - 0s 27ms/step - loss: 41.1449 - accuracy: 0.4984 - val_loss: 17.0111 - val_accuracy: 0.6410\n",
      "Epoch 3/100\n",
      "3/3 [==============================] - 0s 19ms/step - loss: 37.5000 - accuracy: 0.4855 - val_loss: 8.6718 - val_accuracy: 0.6410\n",
      "Epoch 4/100\n",
      "3/3 [==============================] - 0s 20ms/step - loss: 36.1307 - accuracy: 0.5370 - val_loss: 18.7207 - val_accuracy: 0.6410\n",
      "Epoch 5/100\n",
      "3/3 [==============================] - 0s 20ms/step - loss: 34.6596 - accuracy: 0.5113 - val_loss: 24.7716 - val_accuracy: 0.3590\n",
      "Epoch 6/100\n",
      "3/3 [==============================] - 0s 24ms/step - loss: 34.9884 - accuracy: 0.5241 - val_loss: 18.3547 - val_accuracy: 0.6410\n",
      "Epoch 7/100\n",
      "3/3 [==============================] - 0s 20ms/step - loss: 35.3896 - accuracy: 0.4984 - val_loss: 6.1705 - val_accuracy: 0.3718\n",
      "Epoch 8/100\n",
      "3/3 [==============================] - 0s 21ms/step - loss: 35.4915 - accuracy: 0.5434 - val_loss: 9.3546 - val_accuracy: 0.6410\n",
      "Epoch 9/100\n",
      "3/3 [==============================] - 0s 24ms/step - loss: 31.5722 - accuracy: 0.5723 - val_loss: 4.5610 - val_accuracy: 0.6410\n",
      "Epoch 10/100\n",
      "3/3 [==============================] - 0s 22ms/step - loss: 26.9112 - accuracy: 0.5723 - val_loss: 11.5010 - val_accuracy: 0.6410\n",
      "Epoch 11/100\n",
      "3/3 [==============================] - 0s 22ms/step - loss: 29.9158 - accuracy: 0.5949 - val_loss: 15.9071 - val_accuracy: 0.6410\n",
      "Epoch 12/100\n",
      "3/3 [==============================] - 0s 30ms/step - loss: 33.1907 - accuracy: 0.5659 - val_loss: 4.2510 - val_accuracy: 0.8462\n",
      "Epoch 13/100\n",
      "3/3 [==============================] - 0s 29ms/step - loss: 33.6319 - accuracy: 0.5498 - val_loss: 4.4914 - val_accuracy: 0.6410\n",
      "Epoch 14/100\n",
      "3/3 [==============================] - 0s 26ms/step - loss: 27.0175 - accuracy: 0.5820 - val_loss: 3.5165 - val_accuracy: 0.8462\n",
      "Epoch 15/100\n",
      "3/3 [==============================] - 0s 29ms/step - loss: 28.7859 - accuracy: 0.5434 - val_loss: 24.2261 - val_accuracy: 0.3590\n",
      "Epoch 16/100\n",
      "3/3 [==============================] - 0s 29ms/step - loss: 25.6533 - accuracy: 0.6109 - val_loss: 9.1928 - val_accuracy: 0.6538\n",
      "Epoch 17/100\n",
      "3/3 [==============================] - 0s 30ms/step - loss: 23.5844 - accuracy: 0.6206 - val_loss: 13.3091 - val_accuracy: 0.7949\n",
      "Epoch 18/100\n",
      "3/3 [==============================] - 0s 23ms/step - loss: 28.4500 - accuracy: 0.5498 - val_loss: 5.4001 - val_accuracy: 0.7949\n",
      "Epoch 19/100\n",
      "3/3 [==============================] - 0s 26ms/step - loss: 25.4335 - accuracy: 0.6013 - val_loss: 10.2859 - val_accuracy: 0.8590\n",
      "Epoch 20/100\n",
      "3/3 [==============================] - 0s 23ms/step - loss: 26.6014 - accuracy: 0.5820 - val_loss: 10.9957 - val_accuracy: 0.6410\n",
      "Epoch 21/100\n",
      "3/3 [==============================] - 0s 22ms/step - loss: 20.5401 - accuracy: 0.6752 - val_loss: 1.3870 - val_accuracy: 0.8462\n",
      "Epoch 22/100\n",
      "3/3 [==============================] - 0s 22ms/step - loss: 21.7368 - accuracy: 0.6302 - val_loss: 4.0400 - val_accuracy: 0.8590\n",
      "Epoch 23/100\n",
      "3/3 [==============================] - 0s 22ms/step - loss: 26.8923 - accuracy: 0.5949 - val_loss: 9.2547 - val_accuracy: 0.6410\n",
      "Epoch 24/100\n",
      "3/3 [==============================] - 0s 24ms/step - loss: 28.0217 - accuracy: 0.5820 - val_loss: 4.2891 - val_accuracy: 0.7564\n",
      "Epoch 25/100\n",
      "3/3 [==============================] - 0s 28ms/step - loss: 19.9830 - accuracy: 0.5949 - val_loss: 4.7358 - val_accuracy: 0.8077\n",
      "Epoch 26/100\n",
      "3/3 [==============================] - 0s 28ms/step - loss: 21.9071 - accuracy: 0.6077 - val_loss: 1.4181 - val_accuracy: 0.8590\n",
      "Epoch 27/100\n",
      "3/3 [==============================] - 0s 31ms/step - loss: 21.7159 - accuracy: 0.6367 - val_loss: 7.6005 - val_accuracy: 0.6538\n",
      "Epoch 28/100\n",
      "3/3 [==============================] - 0s 27ms/step - loss: 19.3759 - accuracy: 0.6785 - val_loss: 11.5178 - val_accuracy: 0.5641\n",
      "Epoch 29/100\n",
      "3/3 [==============================] - 0s 26ms/step - loss: 19.4270 - accuracy: 0.6624 - val_loss: 5.8582 - val_accuracy: 0.7821\n",
      "Epoch 30/100\n",
      "3/3 [==============================] - 0s 20ms/step - loss: 19.0149 - accuracy: 0.6720 - val_loss: 10.1938 - val_accuracy: 0.8462\n",
      "Epoch 31/100\n",
      "3/3 [==============================] - 0s 22ms/step - loss: 22.7519 - accuracy: 0.6559 - val_loss: 3.6756 - val_accuracy: 0.8590\n",
      "Epoch 32/100\n",
      "3/3 [==============================] - 0s 24ms/step - loss: 16.7659 - accuracy: 0.6752 - val_loss: 7.6465 - val_accuracy: 0.7308\n",
      "Epoch 33/100\n",
      "3/3 [==============================] - 0s 25ms/step - loss: 20.5926 - accuracy: 0.6463 - val_loss: 8.3481 - val_accuracy: 0.6410\n",
      "Epoch 34/100\n",
      "3/3 [==============================] - 0s 23ms/step - loss: 20.1647 - accuracy: 0.6688 - val_loss: 2.5350 - val_accuracy: 0.8205\n",
      "Epoch 35/100\n",
      "3/3 [==============================] - 0s 25ms/step - loss: 14.8556 - accuracy: 0.6945 - val_loss: 2.8959 - val_accuracy: 0.8846\n",
      "Epoch 36/100\n",
      "3/3 [==============================] - 0s 23ms/step - loss: 16.3455 - accuracy: 0.6817 - val_loss: 9.8220 - val_accuracy: 0.6410\n",
      "Epoch 37/100\n",
      "3/3 [==============================] - 0s 25ms/step - loss: 17.7786 - accuracy: 0.6881 - val_loss: 5.5246 - val_accuracy: 0.8590\n",
      "Epoch 38/100\n",
      "3/3 [==============================] - 0s 22ms/step - loss: 13.8502 - accuracy: 0.7428 - val_loss: 6.6181 - val_accuracy: 0.8462\n",
      "Epoch 39/100\n",
      "3/3 [==============================] - 0s 25ms/step - loss: 18.0763 - accuracy: 0.6720 - val_loss: 15.3561 - val_accuracy: 0.5385\n",
      "Epoch 40/100\n",
      "3/3 [==============================] - 0s 21ms/step - loss: 16.6127 - accuracy: 0.7203 - val_loss: 3.3122 - val_accuracy: 0.8462\n",
      "Epoch 41/100\n",
      "3/3 [==============================] - 0s 22ms/step - loss: 16.0308 - accuracy: 0.7492 - val_loss: 7.8057 - val_accuracy: 0.8462\n",
      "Epoch 42/100\n",
      "3/3 [==============================] - 0s 22ms/step - loss: 15.4092 - accuracy: 0.7203 - val_loss: 4.9935 - val_accuracy: 0.8590\n",
      "Epoch 43/100\n",
      "3/3 [==============================] - 0s 23ms/step - loss: 15.6704 - accuracy: 0.7395 - val_loss: 4.5139 - val_accuracy: 0.8718\n",
      "Epoch 44/100\n",
      "3/3 [==============================] - 0s 22ms/step - loss: 12.6081 - accuracy: 0.7814 - val_loss: 3.1048 - val_accuracy: 0.8590\n",
      "Epoch 45/100\n",
      "3/3 [==============================] - 0s 25ms/step - loss: 14.1556 - accuracy: 0.7556 - val_loss: 2.5832 - val_accuracy: 0.8590\n",
      "Epoch 46/100\n",
      "3/3 [==============================] - 0s 23ms/step - loss: 17.0486 - accuracy: 0.6592 - val_loss: 11.7386 - val_accuracy: 0.6795\n",
      "Epoch 47/100\n",
      "3/3 [==============================] - 0s 26ms/step - loss: 20.1054 - accuracy: 0.6592 - val_loss: 6.7472 - val_accuracy: 0.7821\n",
      "Epoch 48/100\n",
      "3/3 [==============================] - 0s 22ms/step - loss: 13.9813 - accuracy: 0.7235 - val_loss: 2.6083 - val_accuracy: 0.8590\n",
      "Epoch 49/100\n",
      "3/3 [==============================] - 0s 21ms/step - loss: 12.4191 - accuracy: 0.7299 - val_loss: 2.7380 - val_accuracy: 0.8462\n",
      "Epoch 50/100\n",
      "3/3 [==============================] - 0s 25ms/step - loss: 12.4177 - accuracy: 0.7460 - val_loss: 4.5691 - val_accuracy: 0.8590\n",
      "Epoch 51/100\n",
      "3/3 [==============================] - 0s 29ms/step - loss: 18.9136 - accuracy: 0.6559 - val_loss: 7.9579 - val_accuracy: 0.6538\n",
      "Epoch 52/100\n",
      "3/3 [==============================] - 0s 31ms/step - loss: 13.1481 - accuracy: 0.7299 - val_loss: 3.6206 - val_accuracy: 0.8718\n",
      "Epoch 53/100\n",
      "3/3 [==============================] - 0s 29ms/step - loss: 10.6614 - accuracy: 0.7878 - val_loss: 7.8651 - val_accuracy: 0.7692\n",
      "Epoch 54/100\n",
      "3/3 [==============================] - 0s 27ms/step - loss: 16.2325 - accuracy: 0.7010 - val_loss: 3.1248 - val_accuracy: 0.8462\n",
      "Epoch 55/100\n",
      "3/3 [==============================] - 0s 22ms/step - loss: 11.3327 - accuracy: 0.7267 - val_loss: 4.0914 - val_accuracy: 0.8846\n",
      "Epoch 56/100\n",
      "3/3 [==============================] - 0s 22ms/step - loss: 8.8410 - accuracy: 0.8071 - val_loss: 3.2701 - val_accuracy: 0.8462\n",
      "Epoch 57/100\n",
      "3/3 [==============================] - 0s 23ms/step - loss: 12.5464 - accuracy: 0.7814 - val_loss: 6.4946 - val_accuracy: 0.8590\n",
      "Epoch 58/100\n",
      "3/3 [==============================] - 0s 20ms/step - loss: 12.4641 - accuracy: 0.7749 - val_loss: 2.8171 - val_accuracy: 0.8590\n",
      "Epoch 59/100\n",
      "3/3 [==============================] - 0s 25ms/step - loss: 10.6101 - accuracy: 0.8103 - val_loss: 7.9935 - val_accuracy: 0.8462\n",
      "Epoch 60/100\n",
      "3/3 [==============================] - 0s 22ms/step - loss: 12.0293 - accuracy: 0.7524 - val_loss: 6.2210 - val_accuracy: 0.7949\n",
      "Epoch 61/100\n",
      "3/3 [==============================] - 0s 25ms/step - loss: 13.3785 - accuracy: 0.6977 - val_loss: 13.9942 - val_accuracy: 0.6795\n",
      "Epoch 62/100\n",
      "3/3 [==============================] - 0s 25ms/step - loss: 16.3958 - accuracy: 0.7010 - val_loss: 2.6096 - val_accuracy: 0.8590\n",
      "Epoch 63/100\n",
      "3/3 [==============================] - 0s 23ms/step - loss: 9.8375 - accuracy: 0.7942 - val_loss: 5.1288 - val_accuracy: 0.8846\n",
      "Epoch 64/100\n",
      "3/3 [==============================] - 0s 22ms/step - loss: 9.9061 - accuracy: 0.7814 - val_loss: 3.8518 - val_accuracy: 0.8590\n",
      "Epoch 65/100\n",
      "3/3 [==============================] - 0s 22ms/step - loss: 9.3968 - accuracy: 0.7942 - val_loss: 4.7184 - val_accuracy: 0.8718\n",
      "Epoch 66/100\n",
      "3/3 [==============================] - 0s 23ms/step - loss: 15.7477 - accuracy: 0.6849 - val_loss: 7.9956 - val_accuracy: 0.7179\n",
      "Epoch 67/100\n",
      "3/3 [==============================] - 0s 22ms/step - loss: 13.0522 - accuracy: 0.6977 - val_loss: 3.1501 - val_accuracy: 0.8590\n",
      "Epoch 68/100\n",
      "3/3 [==============================] - 0s 20ms/step - loss: 8.5266 - accuracy: 0.7749 - val_loss: 2.9867 - val_accuracy: 0.8590\n",
      "Epoch 69/100\n",
      "3/3 [==============================] - 0s 22ms/step - loss: 11.1125 - accuracy: 0.7363 - val_loss: 3.0081 - val_accuracy: 0.8590\n",
      "Epoch 70/100\n",
      "3/3 [==============================] - 0s 22ms/step - loss: 7.7067 - accuracy: 0.8103 - val_loss: 3.5358 - val_accuracy: 0.8462\n",
      "Epoch 71/100\n",
      "3/3 [==============================] - 0s 24ms/step - loss: 9.0959 - accuracy: 0.8328 - val_loss: 4.7676 - val_accuracy: 0.8462\n",
      "Epoch 72/100\n",
      "3/3 [==============================] - 0s 22ms/step - loss: 13.3397 - accuracy: 0.7106 - val_loss: 11.4985 - val_accuracy: 0.7179\n",
      "Epoch 73/100\n",
      "3/3 [==============================] - 0s 23ms/step - loss: 12.8631 - accuracy: 0.7524 - val_loss: 4.6782 - val_accuracy: 0.8333\n",
      "Epoch 74/100\n",
      "3/3 [==============================] - 0s 28ms/step - loss: 10.0786 - accuracy: 0.7910 - val_loss: 4.7195 - val_accuracy: 0.8846\n",
      "Epoch 75/100\n",
      "3/3 [==============================] - 0s 24ms/step - loss: 10.5702 - accuracy: 0.7749 - val_loss: 5.2398 - val_accuracy: 0.7821\n",
      "Epoch 76/100\n",
      "3/3 [==============================] - 0s 24ms/step - loss: 10.1837 - accuracy: 0.7653 - val_loss: 4.0355 - val_accuracy: 0.8718\n",
      "Epoch 77/100\n",
      "3/3 [==============================] - 0s 21ms/step - loss: 6.4210 - accuracy: 0.8392 - val_loss: 3.2006 - val_accuracy: 0.8590\n",
      "Epoch 78/100\n",
      "3/3 [==============================] - 0s 22ms/step - loss: 12.2318 - accuracy: 0.7588 - val_loss: 7.8065 - val_accuracy: 0.7821\n",
      "Epoch 79/100\n",
      "3/3 [==============================] - 0s 21ms/step - loss: 10.3580 - accuracy: 0.7588 - val_loss: 3.1156 - val_accuracy: 0.8590\n",
      "Epoch 80/100\n",
      "3/3 [==============================] - 0s 24ms/step - loss: 7.0620 - accuracy: 0.8199 - val_loss: 3.6786 - val_accuracy: 0.8462\n",
      "Epoch 81/100\n",
      "3/3 [==============================] - 0s 23ms/step - loss: 7.3349 - accuracy: 0.8392 - val_loss: 6.4492 - val_accuracy: 0.8590\n",
      "Epoch 82/100\n",
      "3/3 [==============================] - 0s 21ms/step - loss: 8.5598 - accuracy: 0.7814 - val_loss: 4.7714 - val_accuracy: 0.8205\n",
      "Epoch 83/100\n",
      "3/3 [==============================] - 0s 22ms/step - loss: 8.8748 - accuracy: 0.7492 - val_loss: 3.0994 - val_accuracy: 0.8590\n",
      "Epoch 84/100\n",
      "3/3 [==============================] - 0s 21ms/step - loss: 6.4729 - accuracy: 0.8392 - val_loss: 3.9688 - val_accuracy: 0.8462\n",
      "Epoch 85/100\n",
      "3/3 [==============================] - 0s 21ms/step - loss: 11.1510 - accuracy: 0.7524 - val_loss: 10.4461 - val_accuracy: 0.7308\n",
      "Epoch 86/100\n",
      "3/3 [==============================] - 0s 27ms/step - loss: 8.5702 - accuracy: 0.8232 - val_loss: 2.9591 - val_accuracy: 0.8590\n",
      "Epoch 87/100\n",
      "3/3 [==============================] - 0s 19ms/step - loss: 7.7391 - accuracy: 0.8167 - val_loss: 4.5655 - val_accuracy: 0.8462\n",
      "Epoch 88/100\n",
      "3/3 [==============================] - 0s 24ms/step - loss: 8.1616 - accuracy: 0.8039 - val_loss: 3.0780 - val_accuracy: 0.8590\n",
      "Epoch 89/100\n",
      "3/3 [==============================] - 0s 21ms/step - loss: 6.5894 - accuracy: 0.8199 - val_loss: 3.0213 - val_accuracy: 0.8590\n",
      "Epoch 90/100\n",
      "3/3 [==============================] - 0s 26ms/step - loss: 7.0668 - accuracy: 0.8232 - val_loss: 8.8060 - val_accuracy: 0.7821\n",
      "Epoch 91/100\n",
      "3/3 [==============================] - 0s 21ms/step - loss: 8.1004 - accuracy: 0.8103 - val_loss: 3.1820 - val_accuracy: 0.8590\n",
      "Epoch 92/100\n",
      "3/3 [==============================] - 0s 28ms/step - loss: 5.5751 - accuracy: 0.8264 - val_loss: 3.6604 - val_accuracy: 0.8590\n",
      "Epoch 93/100\n",
      "3/3 [==============================] - 0s 25ms/step - loss: 7.1843 - accuracy: 0.8232 - val_loss: 9.7814 - val_accuracy: 0.7308\n",
      "Epoch 94/100\n",
      "3/3 [==============================] - 0s 23ms/step - loss: 11.5346 - accuracy: 0.7331 - val_loss: 5.2677 - val_accuracy: 0.7821\n",
      "Epoch 95/100\n",
      "3/3 [==============================] - 0s 29ms/step - loss: 8.7725 - accuracy: 0.7717 - val_loss: 3.4073 - val_accuracy: 0.8333\n",
      "Epoch 96/100\n",
      "3/3 [==============================] - 0s 22ms/step - loss: 7.8922 - accuracy: 0.8167 - val_loss: 6.7267 - val_accuracy: 0.8077\n",
      "Epoch 97/100\n",
      "3/3 [==============================] - 0s 27ms/step - loss: 7.6627 - accuracy: 0.7910 - val_loss: 2.6593 - val_accuracy: 0.8590\n",
      "Epoch 98/100\n",
      "3/3 [==============================] - 0s 22ms/step - loss: 6.5349 - accuracy: 0.8296 - val_loss: 3.0409 - val_accuracy: 0.8590\n",
      "Epoch 99/100\n",
      "3/3 [==============================] - 0s 20ms/step - loss: 8.0241 - accuracy: 0.8135 - val_loss: 3.1276 - val_accuracy: 0.8590\n",
      "Epoch 100/100\n",
      "3/3 [==============================] - 0s 20ms/step - loss: 6.7657 - accuracy: 0.8135 - val_loss: 11.1148 - val_accuracy: 0.7179\n",
      "Test Loss: 11.114789962768555\n",
      "Test Accuracy: 0.7179487347602844\n"
     ]
    }
   ],
   "source": [
    "# Convert class vectors to binary class matrices\n",
    "y_train_m = keras.utils.to_categorical(y_train, 2)\n",
    "y_test_m = keras.utils.to_categorical(y_test, 2)\n",
    "\n",
    "# Specify NN settings\n",
    "batch_size = 128\n",
    "epochs = 100\n",
    "\n",
    "# Create NN\n",
    "nn1 = Sequential()\n",
    "nn1.add(Dense(512, activation='relu', input_shape=(7,)))\n",
    "nn1.add(Dropout(0.2))\n",
    "nn1.add(Dense(2, activation='sigmoid'))\n",
    "\n",
    "# Make predictons\n",
    "nn1.compile(loss='binary_crossentropy', optimizer=RMSprop(), metrics=['accuracy'])\n",
    "nn1_history = nn1.fit(x_train, y_train_m, batch_size=batch_size, epochs=epochs, verbose=1, validation_data=(x_test, y_test_m))\n",
    "\n",
    "# Evaluate predictions\n",
    "nn1_score = nn1.evaluate(x_test, y_test_m, verbose=0)\n",
    "print('Test Loss:', nn1_score[0])\n",
    "print('Test Accuracy:', nn1_score[1])"
   ],
   "metadata": {
    "collapsed": false
   }
  },
  {
   "cell_type": "markdown",
   "source": [
    "ANALYSIS"
   ],
   "metadata": {
    "collapsed": false
   },
   "outputs": []
  },
  {
   "cell_type": "markdown",
   "source": [
    "SEGUE"
   ],
   "metadata": {
    "collapsed": false
   }
  },
  {
   "cell_type": "code",
   "execution_count": 535,
   "outputs": [
    {
     "name": "stdout",
     "output_type": "stream",
     "text": [
      "Epoch 1/100\n",
      "3/3 [==============================] - 2s 198ms/step - loss: 0.6002 - accuracy: 0.7653 - val_loss: 0.3664 - val_accuracy: 0.8590\n",
      "Epoch 2/100\n",
      "3/3 [==============================] - 0s 27ms/step - loss: 0.2852 - accuracy: 0.9035 - val_loss: 0.3568 - val_accuracy: 0.8590\n",
      "Epoch 3/100\n",
      "3/3 [==============================] - 0s 29ms/step - loss: 0.2115 - accuracy: 0.9035 - val_loss: 0.3026 - val_accuracy: 0.8590\n",
      "Epoch 4/100\n",
      "3/3 [==============================] - 0s 31ms/step - loss: 0.1526 - accuracy: 0.9293 - val_loss: 0.2690 - val_accuracy: 0.8846\n",
      "Epoch 5/100\n",
      "3/3 [==============================] - 0s 28ms/step - loss: 0.0989 - accuracy: 0.9646 - val_loss: 0.2738 - val_accuracy: 0.8974\n",
      "Epoch 6/100\n",
      "3/3 [==============================] - 0s 35ms/step - loss: 0.0592 - accuracy: 0.9807 - val_loss: 0.3299 - val_accuracy: 0.8846\n",
      "Epoch 7/100\n",
      "3/3 [==============================] - 0s 29ms/step - loss: 0.0416 - accuracy: 0.9936 - val_loss: 0.3391 - val_accuracy: 0.8974\n",
      "Epoch 8/100\n",
      "3/3 [==============================] - 0s 31ms/step - loss: 0.0231 - accuracy: 0.9968 - val_loss: 0.3376 - val_accuracy: 0.9103\n",
      "Epoch 9/100\n",
      "3/3 [==============================] - 0s 30ms/step - loss: 0.0149 - accuracy: 1.0000 - val_loss: 0.3992 - val_accuracy: 0.8974\n",
      "Epoch 10/100\n",
      "3/3 [==============================] - 0s 30ms/step - loss: 0.0089 - accuracy: 1.0000 - val_loss: 0.3933 - val_accuracy: 0.8718\n",
      "Epoch 11/100\n",
      "3/3 [==============================] - 0s 30ms/step - loss: 0.0066 - accuracy: 1.0000 - val_loss: 0.4304 - val_accuracy: 0.8846\n",
      "Epoch 12/100\n",
      "3/3 [==============================] - 0s 28ms/step - loss: 0.0039 - accuracy: 1.0000 - val_loss: 0.4389 - val_accuracy: 0.8846\n",
      "Epoch 13/100\n",
      "3/3 [==============================] - 0s 30ms/step - loss: 0.0029 - accuracy: 1.0000 - val_loss: 0.4638 - val_accuracy: 0.8718\n",
      "Epoch 14/100\n",
      "3/3 [==============================] - 0s 33ms/step - loss: 0.0021 - accuracy: 1.0000 - val_loss: 0.4730 - val_accuracy: 0.8974\n",
      "Epoch 15/100\n",
      "3/3 [==============================] - 0s 31ms/step - loss: 0.0016 - accuracy: 1.0000 - val_loss: 0.5188 - val_accuracy: 0.8846\n",
      "Epoch 16/100\n",
      "3/3 [==============================] - 0s 27ms/step - loss: 0.0014 - accuracy: 1.0000 - val_loss: 0.5418 - val_accuracy: 0.8846\n",
      "Epoch 17/100\n",
      "3/3 [==============================] - 0s 34ms/step - loss: 0.0012 - accuracy: 1.0000 - val_loss: 0.5364 - val_accuracy: 0.8846\n",
      "Epoch 18/100\n",
      "3/3 [==============================] - 0s 36ms/step - loss: 7.3427e-04 - accuracy: 1.0000 - val_loss: 0.5281 - val_accuracy: 0.8846\n",
      "Epoch 19/100\n",
      "3/3 [==============================] - 0s 36ms/step - loss: 6.4691e-04 - accuracy: 1.0000 - val_loss: 0.5602 - val_accuracy: 0.8846\n",
      "Epoch 20/100\n",
      "3/3 [==============================] - 0s 31ms/step - loss: 4.8139e-04 - accuracy: 1.0000 - val_loss: 0.5722 - val_accuracy: 0.8846\n",
      "Epoch 21/100\n",
      "3/3 [==============================] - 0s 31ms/step - loss: 3.9655e-04 - accuracy: 1.0000 - val_loss: 0.5869 - val_accuracy: 0.8846\n",
      "Epoch 22/100\n",
      "3/3 [==============================] - 0s 35ms/step - loss: 3.2954e-04 - accuracy: 1.0000 - val_loss: 0.6019 - val_accuracy: 0.8846\n",
      "Epoch 23/100\n",
      "3/3 [==============================] - 0s 31ms/step - loss: 2.7800e-04 - accuracy: 1.0000 - val_loss: 0.6145 - val_accuracy: 0.8846\n",
      "Epoch 24/100\n",
      "3/3 [==============================] - 0s 30ms/step - loss: 2.3223e-04 - accuracy: 1.0000 - val_loss: 0.6298 - val_accuracy: 0.8846\n",
      "Epoch 25/100\n",
      "3/3 [==============================] - 0s 29ms/step - loss: 1.9196e-04 - accuracy: 1.0000 - val_loss: 0.6435 - val_accuracy: 0.8846\n",
      "Epoch 26/100\n",
      "3/3 [==============================] - 0s 30ms/step - loss: 1.6336e-04 - accuracy: 1.0000 - val_loss: 0.6684 - val_accuracy: 0.8846\n",
      "Epoch 27/100\n",
      "3/3 [==============================] - 0s 31ms/step - loss: 1.3921e-04 - accuracy: 1.0000 - val_loss: 0.6715 - val_accuracy: 0.8846\n",
      "Epoch 28/100\n",
      "3/3 [==============================] - 0s 28ms/step - loss: 1.1813e-04 - accuracy: 1.0000 - val_loss: 0.6793 - val_accuracy: 0.8846\n",
      "Epoch 29/100\n",
      "3/3 [==============================] - 0s 32ms/step - loss: 1.0196e-04 - accuracy: 1.0000 - val_loss: 0.7014 - val_accuracy: 0.8846\n",
      "Epoch 30/100\n",
      "3/3 [==============================] - 0s 30ms/step - loss: 8.5167e-05 - accuracy: 1.0000 - val_loss: 0.7001 - val_accuracy: 0.8846\n",
      "Epoch 31/100\n",
      "3/3 [==============================] - 0s 29ms/step - loss: 7.2695e-05 - accuracy: 1.0000 - val_loss: 0.7216 - val_accuracy: 0.8846\n",
      "Epoch 32/100\n",
      "3/3 [==============================] - 0s 33ms/step - loss: 6.0025e-05 - accuracy: 1.0000 - val_loss: 0.7415 - val_accuracy: 0.8846\n",
      "Epoch 33/100\n",
      "3/3 [==============================] - 0s 31ms/step - loss: 5.2291e-05 - accuracy: 1.0000 - val_loss: 0.7466 - val_accuracy: 0.8846\n",
      "Epoch 34/100\n",
      "3/3 [==============================] - 0s 32ms/step - loss: 4.5080e-05 - accuracy: 1.0000 - val_loss: 0.7735 - val_accuracy: 0.8846\n",
      "Epoch 35/100\n",
      "3/3 [==============================] - 0s 31ms/step - loss: 3.8777e-05 - accuracy: 1.0000 - val_loss: 0.7826 - val_accuracy: 0.8846\n",
      "Epoch 36/100\n",
      "3/3 [==============================] - 0s 33ms/step - loss: 3.3296e-05 - accuracy: 1.0000 - val_loss: 0.8059 - val_accuracy: 0.8846\n",
      "Epoch 37/100\n",
      "3/3 [==============================] - 0s 29ms/step - loss: 2.9004e-05 - accuracy: 1.0000 - val_loss: 0.8210 - val_accuracy: 0.8846\n",
      "Epoch 38/100\n",
      "3/3 [==============================] - 0s 29ms/step - loss: 2.5017e-05 - accuracy: 1.0000 - val_loss: 0.8243 - val_accuracy: 0.8846\n",
      "Epoch 39/100\n",
      "3/3 [==============================] - 0s 30ms/step - loss: 2.1323e-05 - accuracy: 1.0000 - val_loss: 0.8245 - val_accuracy: 0.8846\n",
      "Epoch 40/100\n",
      "3/3 [==============================] - 0s 30ms/step - loss: 1.8404e-05 - accuracy: 1.0000 - val_loss: 0.8546 - val_accuracy: 0.8846\n",
      "Epoch 41/100\n",
      "3/3 [==============================] - 0s 28ms/step - loss: 1.5461e-05 - accuracy: 1.0000 - val_loss: 0.8726 - val_accuracy: 0.8846\n",
      "Epoch 42/100\n",
      "3/3 [==============================] - 0s 32ms/step - loss: 1.3382e-05 - accuracy: 1.0000 - val_loss: 0.8665 - val_accuracy: 0.8846\n",
      "Epoch 43/100\n",
      "3/3 [==============================] - 0s 28ms/step - loss: 1.1779e-05 - accuracy: 1.0000 - val_loss: 0.8982 - val_accuracy: 0.8846\n",
      "Epoch 44/100\n",
      "3/3 [==============================] - 0s 30ms/step - loss: 9.7842e-06 - accuracy: 1.0000 - val_loss: 0.9228 - val_accuracy: 0.8846\n",
      "Epoch 45/100\n",
      "3/3 [==============================] - 0s 35ms/step - loss: 8.6077e-06 - accuracy: 1.0000 - val_loss: 0.9367 - val_accuracy: 0.8846\n",
      "Epoch 46/100\n",
      "3/3 [==============================] - 0s 27ms/step - loss: 7.2419e-06 - accuracy: 1.0000 - val_loss: 0.9320 - val_accuracy: 0.8846\n",
      "Epoch 47/100\n",
      "3/3 [==============================] - 0s 30ms/step - loss: 6.2538e-06 - accuracy: 1.0000 - val_loss: 0.9465 - val_accuracy: 0.8846\n",
      "Epoch 48/100\n",
      "3/3 [==============================] - 0s 28ms/step - loss: 5.3986e-06 - accuracy: 1.0000 - val_loss: 0.9843 - val_accuracy: 0.8718\n",
      "Epoch 49/100\n",
      "3/3 [==============================] - 0s 28ms/step - loss: 4.6096e-06 - accuracy: 1.0000 - val_loss: 1.0037 - val_accuracy: 0.8718\n",
      "Epoch 50/100\n",
      "3/3 [==============================] - 0s 32ms/step - loss: 4.0063e-06 - accuracy: 1.0000 - val_loss: 1.0055 - val_accuracy: 0.8846\n",
      "Epoch 51/100\n",
      "3/3 [==============================] - 0s 31ms/step - loss: 3.4683e-06 - accuracy: 1.0000 - val_loss: 1.0291 - val_accuracy: 0.8718\n",
      "Epoch 52/100\n",
      "3/3 [==============================] - 0s 34ms/step - loss: 3.0095e-06 - accuracy: 1.0000 - val_loss: 1.0483 - val_accuracy: 0.8718\n",
      "Epoch 53/100\n",
      "3/3 [==============================] - 0s 31ms/step - loss: 2.6038e-06 - accuracy: 1.0000 - val_loss: 1.0617 - val_accuracy: 0.8718\n",
      "Epoch 54/100\n",
      "3/3 [==============================] - 0s 28ms/step - loss: 2.2771e-06 - accuracy: 1.0000 - val_loss: 1.0556 - val_accuracy: 0.8974\n",
      "Epoch 55/100\n",
      "3/3 [==============================] - 0s 27ms/step - loss: 1.9759e-06 - accuracy: 1.0000 - val_loss: 1.0630 - val_accuracy: 0.8974\n",
      "Epoch 56/100\n",
      "3/3 [==============================] - 0s 28ms/step - loss: 1.7183e-06 - accuracy: 1.0000 - val_loss: 1.0878 - val_accuracy: 0.8718\n",
      "Epoch 57/100\n",
      "3/3 [==============================] - 0s 30ms/step - loss: 1.4886e-06 - accuracy: 1.0000 - val_loss: 1.0784 - val_accuracy: 0.8974\n",
      "Epoch 58/100\n",
      "3/3 [==============================] - 0s 31ms/step - loss: 1.3001e-06 - accuracy: 1.0000 - val_loss: 1.1114 - val_accuracy: 0.8846\n",
      "Epoch 59/100\n",
      "3/3 [==============================] - 0s 31ms/step - loss: 1.1243e-06 - accuracy: 1.0000 - val_loss: 1.1271 - val_accuracy: 0.8974\n",
      "Epoch 60/100\n",
      "3/3 [==============================] - 0s 30ms/step - loss: 9.8638e-07 - accuracy: 1.0000 - val_loss: 1.1555 - val_accuracy: 0.8974\n",
      "Epoch 61/100\n",
      "3/3 [==============================] - 0s 33ms/step - loss: 8.6352e-07 - accuracy: 1.0000 - val_loss: 1.1769 - val_accuracy: 0.8846\n",
      "Epoch 62/100\n",
      "3/3 [==============================] - 0s 33ms/step - loss: 7.5688e-07 - accuracy: 1.0000 - val_loss: 1.1617 - val_accuracy: 0.8974\n",
      "Epoch 63/100\n",
      "3/3 [==============================] - 0s 37ms/step - loss: 6.6269e-07 - accuracy: 1.0000 - val_loss: 1.1794 - val_accuracy: 0.8974\n",
      "Epoch 64/100\n",
      "3/3 [==============================] - 0s 41ms/step - loss: 5.7599e-07 - accuracy: 1.0000 - val_loss: 1.1848 - val_accuracy: 0.8974\n",
      "Epoch 65/100\n",
      "3/3 [==============================] - 0s 36ms/step - loss: 5.0303e-07 - accuracy: 1.0000 - val_loss: 1.2107 - val_accuracy: 0.8974\n",
      "Epoch 66/100\n",
      "3/3 [==============================] - 0s 34ms/step - loss: 4.4882e-07 - accuracy: 1.0000 - val_loss: 1.2246 - val_accuracy: 0.8846\n",
      "Epoch 67/100\n",
      "3/3 [==============================] - 0s 37ms/step - loss: 3.9458e-07 - accuracy: 1.0000 - val_loss: 1.2460 - val_accuracy: 0.8846\n",
      "Epoch 68/100\n",
      "3/3 [==============================] - 0s 33ms/step - loss: 3.4914e-07 - accuracy: 1.0000 - val_loss: 1.2600 - val_accuracy: 0.8846\n",
      "Epoch 69/100\n",
      "3/3 [==============================] - 0s 36ms/step - loss: 3.1144e-07 - accuracy: 1.0000 - val_loss: 1.2724 - val_accuracy: 0.8846\n",
      "Epoch 70/100\n",
      "3/3 [==============================] - 0s 30ms/step - loss: 2.7479e-07 - accuracy: 1.0000 - val_loss: 1.2799 - val_accuracy: 0.8846\n",
      "Epoch 71/100\n",
      "3/3 [==============================] - 0s 32ms/step - loss: 2.4611e-07 - accuracy: 1.0000 - val_loss: 1.2867 - val_accuracy: 0.8846\n",
      "Epoch 72/100\n",
      "3/3 [==============================] - 0s 29ms/step - loss: 2.2125e-07 - accuracy: 1.0000 - val_loss: 1.2997 - val_accuracy: 0.8846\n",
      "Epoch 73/100\n",
      "3/3 [==============================] - 0s 32ms/step - loss: 1.9853e-07 - accuracy: 1.0000 - val_loss: 1.3031 - val_accuracy: 0.8846\n",
      "Epoch 74/100\n",
      "3/3 [==============================] - 0s 33ms/step - loss: 1.7851e-07 - accuracy: 1.0000 - val_loss: 1.3115 - val_accuracy: 0.8846\n",
      "Epoch 75/100\n",
      "3/3 [==============================] - 0s 30ms/step - loss: 1.5927e-07 - accuracy: 1.0000 - val_loss: 1.3107 - val_accuracy: 0.8974\n",
      "Epoch 76/100\n",
      "3/3 [==============================] - 0s 31ms/step - loss: 1.4411e-07 - accuracy: 1.0000 - val_loss: 1.3445 - val_accuracy: 0.8718\n",
      "Epoch 77/100\n",
      "3/3 [==============================] - 0s 26ms/step - loss: 1.3049e-07 - accuracy: 1.0000 - val_loss: 1.3480 - val_accuracy: 0.8846\n",
      "Epoch 78/100\n",
      "3/3 [==============================] - 0s 31ms/step - loss: 1.1952e-07 - accuracy: 1.0000 - val_loss: 1.3583 - val_accuracy: 0.8846\n",
      "Epoch 79/100\n",
      "3/3 [==============================] - 0s 29ms/step - loss: 1.0842e-07 - accuracy: 1.0000 - val_loss: 1.3376 - val_accuracy: 0.8846\n",
      "Epoch 80/100\n",
      "3/3 [==============================] - 0s 28ms/step - loss: 9.9433e-08 - accuracy: 1.0000 - val_loss: 1.3702 - val_accuracy: 0.8846\n",
      "Epoch 81/100\n",
      "3/3 [==============================] - 0s 29ms/step - loss: 8.9934e-08 - accuracy: 1.0000 - val_loss: 1.3836 - val_accuracy: 0.8846\n",
      "Epoch 82/100\n",
      "3/3 [==============================] - 0s 28ms/step - loss: 8.2690e-08 - accuracy: 1.0000 - val_loss: 1.3942 - val_accuracy: 0.8846\n",
      "Epoch 83/100\n",
      "3/3 [==============================] - 0s 32ms/step - loss: 7.6528e-08 - accuracy: 1.0000 - val_loss: 1.3783 - val_accuracy: 0.8846\n",
      "Epoch 84/100\n",
      "3/3 [==============================] - 0s 33ms/step - loss: 7.0856e-08 - accuracy: 1.0000 - val_loss: 1.4134 - val_accuracy: 0.8846\n",
      "Epoch 85/100\n",
      "3/3 [==============================] - 0s 32ms/step - loss: 6.6087e-08 - accuracy: 1.0000 - val_loss: 1.3940 - val_accuracy: 0.8846\n",
      "Epoch 86/100\n",
      "3/3 [==============================] - 0s 35ms/step - loss: 6.1069e-08 - accuracy: 1.0000 - val_loss: 1.4091 - val_accuracy: 0.8846\n",
      "Epoch 87/100\n",
      "3/3 [==============================] - 0s 29ms/step - loss: 5.6421e-08 - accuracy: 1.0000 - val_loss: 1.4329 - val_accuracy: 0.8846\n",
      "Epoch 88/100\n",
      "3/3 [==============================] - 0s 29ms/step - loss: 5.3167e-08 - accuracy: 1.0000 - val_loss: 1.4398 - val_accuracy: 0.8846\n",
      "Epoch 89/100\n",
      "3/3 [==============================] - 0s 34ms/step - loss: 4.9960e-08 - accuracy: 1.0000 - val_loss: 1.4495 - val_accuracy: 0.8846\n",
      "Epoch 90/100\n",
      "3/3 [==============================] - 0s 29ms/step - loss: 4.7500e-08 - accuracy: 1.0000 - val_loss: 1.4445 - val_accuracy: 0.8846\n",
      "Epoch 91/100\n",
      "3/3 [==============================] - 0s 31ms/step - loss: 4.5186e-08 - accuracy: 1.0000 - val_loss: 1.4446 - val_accuracy: 0.8846\n",
      "Epoch 92/100\n",
      "3/3 [==============================] - 0s 36ms/step - loss: 4.2764e-08 - accuracy: 1.0000 - val_loss: 1.4612 - val_accuracy: 0.8846\n",
      "Epoch 93/100\n",
      "3/3 [==============================] - 0s 31ms/step - loss: 4.1049e-08 - accuracy: 1.0000 - val_loss: 1.4468 - val_accuracy: 0.8846\n",
      "Epoch 94/100\n",
      "3/3 [==============================] - 0s 30ms/step - loss: 3.9278e-08 - accuracy: 1.0000 - val_loss: 1.4463 - val_accuracy: 0.8846\n",
      "Epoch 95/100\n",
      "3/3 [==============================] - 0s 32ms/step - loss: 3.7296e-08 - accuracy: 1.0000 - val_loss: 1.4514 - val_accuracy: 0.8846\n",
      "Epoch 96/100\n",
      "3/3 [==============================] - 0s 30ms/step - loss: 3.5890e-08 - accuracy: 1.0000 - val_loss: 1.4572 - val_accuracy: 0.8846\n",
      "Epoch 97/100\n",
      "3/3 [==============================] - 0s 33ms/step - loss: 3.4178e-08 - accuracy: 1.0000 - val_loss: 1.4533 - val_accuracy: 0.8974\n",
      "Epoch 98/100\n",
      "3/3 [==============================] - 0s 32ms/step - loss: 3.2996e-08 - accuracy: 1.0000 - val_loss: 1.4701 - val_accuracy: 0.8846\n",
      "Epoch 99/100\n",
      "3/3 [==============================] - 0s 29ms/step - loss: 3.1738e-08 - accuracy: 1.0000 - val_loss: 1.4622 - val_accuracy: 0.8846\n",
      "Epoch 100/100\n",
      "3/3 [==============================] - 0s 28ms/step - loss: 3.0554e-08 - accuracy: 1.0000 - val_loss: 1.4662 - val_accuracy: 0.8846\n",
      "Test Loss: 1.466190218925476\n",
      "Test Accuracy: 0.8846153616905212\n"
     ]
    }
   ],
   "source": [
    "# Specify more NN settings\n",
    "max_features = 10000\n",
    "\n",
    "# Create another NN\n",
    "nn2 = Sequential()\n",
    "nn2.add(Embedding(max_features, batch_size))\n",
    "nn2.add(SimpleRNN(batch_size))\n",
    "nn2.add(Dense(2, activation='sigmoid'))\n",
    "\n",
    "# Make predictons\n",
    "nn2.compile(loss='binary_crossentropy', optimizer=RMSprop(), metrics=['accuracy'])\n",
    "nn2_history = nn2.fit(x_train, y_train_m, batch_size=batch_size, epochs=epochs, verbose=1, validation_data=(x_test, y_test_m))\n",
    "\n",
    "# Evaluate predictions\n",
    "nn2_score = nn2.evaluate(x_test, y_test_m, verbose=0)\n",
    "print('Test Loss:', nn2_score[0])\n",
    "print('Test Accuracy:', nn2_score[1])"
   ],
   "metadata": {
    "collapsed": false
   }
  },
  {
   "cell_type": "markdown",
   "source": [
    "ANALYSIS"
   ],
   "metadata": {
    "collapsed": false
   }
  }
 ],
 "metadata": {
  "kernelspec": {
   "display_name": "Python 3",
   "language": "python",
   "name": "python3"
  },
  "language_info": {
   "codemirror_mode": {
    "name": "ipython",
    "version": 2
   },
   "file_extension": ".py",
   "mimetype": "text/x-python",
   "name": "python",
   "nbconvert_exporter": "python",
   "pygments_lexer": "ipython2",
   "version": "2.7.6"
  }
 },
 "nbformat": 4,
 "nbformat_minor": 0
}
